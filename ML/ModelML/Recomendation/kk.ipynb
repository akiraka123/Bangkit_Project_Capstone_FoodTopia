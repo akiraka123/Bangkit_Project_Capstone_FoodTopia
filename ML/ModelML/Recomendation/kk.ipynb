{
 "cells": [
  {
   "cell_type": "code",
   "execution_count": 50,
   "metadata": {},
   "outputs": [
    {
     "name": "stdout",
     "output_type": "stream",
     "text": [
      "                                 ingredients_cleaned  \\\n",
      "0  blueberries granulated sugar vanilla yogurt le...   \n",
      "1  saffron milk hot green chili peppers onions ga...   \n",
      "2  sugar lemons rind of lemon zest of fresh water...   \n",
      "3  extra firm tofu eggplant zucchini mushrooms so...   \n",
      "4    plain tomato juice cabbage onion carrots celery   \n",
      "\n",
      "                                Name  \n",
      "0  Low-Fat Berry Blue Frozen Dessert  \n",
      "1                            Biryani  \n",
      "2                      Best Lemonade  \n",
      "3     Carina's Tofu-Vegetable Kebabs  \n",
      "4                       Cabbage Soup  \n"
     ]
    }
   ],
   "source": [
    "import pandas as pd\n",
    "import re\n",
    "\n",
    "# Load dataset\n",
    "data = pd.read_csv('recipes.csv')\n",
    "\n",
    "# Bersihkan kolom ingredients\n",
    "def clean_ingredients(ingredients):\n",
    "    if isinstance(ingredients, str):\n",
    "        return re.sub(r'[^\\w\\s]', '', ingredients.lower())  # Hapus karakter khusus dan ubah ke lowercase\n",
    "    return ''\n",
    "\n",
    "data['ingredients_cleaned'] = data['RecipeIngredientParts'].apply(clean_ingredients)\n",
    "data = data[['ingredients_cleaned', 'Name']].dropna()\n",
    "\n",
    "print(data.head())\n"
   ]
  },
  {
   "cell_type": "code",
   "execution_count": 51,
   "metadata": {},
   "outputs": [
    {
     "name": "stdout",
     "output_type": "stream",
     "text": [
      "TF-IDF Matrix Shape: (104171, 2406)\n"
     ]
    }
   ],
   "source": [
    "from sklearn.feature_extraction.text import TfidfVectorizer\n",
    "\n",
    "# TF-IDF Vectorizer\n",
    "vectorizer = TfidfVectorizer()\n",
    "ingredients_tfidf = vectorizer.fit_transform(data['ingredients_cleaned'])\n",
    "\n",
    "print(\"TF-IDF Matrix Shape:\", ingredients_tfidf.shape)\n"
   ]
  },
  {
   "cell_type": "code",
   "execution_count": 56,
   "metadata": {},
   "outputs": [
    {
     "name": "stdout",
     "output_type": "stream",
     "text": [
      "\n",
      "Rekomendasi makanan:\n",
      "                                      Name ingredients_cleaned\n",
      "7162         Ultimate Instant Garlic Toast  garlic butter salt\n",
      "12936     Crushed Red Potatoes with Garlic       butter garlic\n",
      "41294                   Matzoh Board Snack         butter salt\n",
      "21457         Microwavable Corn On The Cob         salt butter\n",
      "57200  Kittencal's Perfect Pan-Fried Steak         butter salt\n"
     ]
    }
   ],
   "source": [
    "from sklearn.metrics.pairwise import cosine_similarity\n",
    "\n",
    "# Fungsi untuk merekomendasikan makanan\n",
    "def recommend_food(user_input, top_n=5):\n",
    "    # Preprocessing input user\n",
    "    user_input_cleaned = clean_ingredients(user_input)\n",
    "    user_tfidf = vectorizer.transform([user_input_cleaned])\n",
    "    \n",
    "    # Hitung kemiripan\n",
    "    similarity_scores = cosine_similarity(user_tfidf, ingredients_tfidf)\n",
    "    \n",
    "    # Ambil indeks makanan dengan skor tertinggi\n",
    "    top_indices = similarity_scores[0].argsort()[-top_n:][::-1]\n",
    "    \n",
    "    # Tampilkan hasil rekomendasi\n",
    "    recommendations = data.iloc[top_indices][['Name', 'ingredients_cleaned']]\n",
    "    return recommendations\n",
    "\n",
    "# Contoh input user\n",
    "user_input = \"garlic butter salt\"\n",
    "recommendations = recommend_food(user_input)\n",
    "print(\"\\nRekomendasi makanan:\")\n",
    "print(recommendations)\n"
   ]
  },
  {
   "cell_type": "code",
   "execution_count": 57,
   "metadata": {},
   "outputs": [],
   "source": [
    "import joblib\n",
    "\n",
    "# Simpan TF-IDF Vectorizer\n",
    "joblib.dump(vectorizer, 'tfidf_vectorizer.pkl')\n",
    "\n",
    "# Simpan dataset\n",
    "data.to_csv('processed_recipes.csv', index=False)\n"
   ]
  },
  {
   "cell_type": "code",
   "execution_count": 73,
   "metadata": {},
   "outputs": [
    {
     "name": "stdout",
     "output_type": "stream",
     "text": [
      "\n",
      "Rekomendasi makanan:\n",
      "                                                     Name  \\\n",
      "100438                                    Hot Dog Mummies   \n",
      "94898             Apricot-Mustard Grilled Pork Tenderloin   \n",
      "9697                                            Frito Pie   \n",
      "25973   Frankfurter Wurstchen Im Schlafrock (Hot and C...   \n",
      "79427                         Pigs in a Blanket Appetizer   \n",
      "\n",
      "                         ingredients_cleaned  \n",
      "100438                               mustard  \n",
      "94898                    mustard salt pepper  \n",
      "9697                          onions mustard  \n",
      "25973   sweet mustard mustard ketchup butter  \n",
      "79427                          mustard honey  \n"
     ]
    }
   ],
   "source": [
    "# Load TF-IDF Vectorizer dan dataset\n",
    "vectorizer = joblib.load('tfidf_vectorizer.pkl')\n",
    "data = pd.read_csv('processed_recipes.csv')\n",
    "\n",
    "# Gunakan fungsi rekomendasi\n",
    "user_input = \"mustard \"\n",
    "recommendations = recommend_food(user_input)\n",
    "print(\"\\nRekomendasi makanan:\")\n",
    "print(recommendations)\n"
   ]
  },
  {
   "cell_type": "code",
   "execution_count": null,
   "metadata": {},
   "outputs": [],
   "source": []
  }
 ],
 "metadata": {
  "kernelspec": {
   "display_name": "Python 3",
   "language": "python",
   "name": "python3"
  },
  "language_info": {
   "codemirror_mode": {
    "name": "ipython",
    "version": 3
   },
   "file_extension": ".py",
   "mimetype": "text/x-python",
   "name": "python",
   "nbconvert_exporter": "python",
   "pygments_lexer": "ipython3",
   "version": "3.11.5"
  }
 },
 "nbformat": 4,
 "nbformat_minor": 2
}
